{
 "cells": [
  {
   "cell_type": "code",
   "execution_count": 27,
   "metadata": {
    "collapsed": false
   },
   "outputs": [
    {
     "name": "stdout",
     "output_type": "stream",
     "text": [
      "199522\n"
     ]
    }
   ],
   "source": [
    "import pandas as pd\n",
    "import numpy as np\n",
    "df_census = pd.DataFrame(pd.read_csv('C:\\Bigdatatraining\\AProject2\\project2\\data/ad_placement/census-income.csv'))\n",
    "\n",
    "df_census.columns=['AAGE','ACLSWKR','ADTIND','ADTOCC','AHGA','AHRSPAY','AHSCOL','AMARITL','AMJIND','AMJOCC','ARACE','AREORGN','ASEX','AUNMEM','AUNTYPE','AWKSTAT','CAPGAIN','CAPLOSS','DIVVAL','FILESTA','GRINREG','GRINST','HHDFMX','HHDREL','MARSUPW','MIGMTR1','MIGMTR3','MIGMTR4','MIGSAME','MIGSUN','NOEMP','PARENT','PEFNTVT','PEMNTVT','PENATVT','PRCITSH','SEOTR','VETQVA','VETYN','WKSWORK','YEAR','AGI']\n",
    "print len(df_census)"
   ]
  },
  {
   "cell_type": "code",
   "execution_count": 30,
   "metadata": {
    "collapsed": false
   },
   "outputs": [
    {
     "name": "stderr",
     "output_type": "stream",
     "text": [
      "c:\\Users\\DES368\\AppData\\Local\\Continuum\\Anaconda2\\lib\\site-packages\\pandas\\core\\generic.py:3443: SettingWithCopyWarning: \n",
      "A value is trying to be set on a copy of a slice from a DataFrame\n",
      "\n",
      "See the caveats in the documentation: http://pandas.pydata.org/pandas-docs/stable/indexing.html#indexing-view-versus-copy\n",
      "  self._update_inplace(new_data)\n"
     ]
    }
   ],
   "source": [
    "df_census[df_census.AAGE > 18].AGI.replace('- 50000.',-50000,inplace=True)\n",
    "df_census[df_census.AAGE > 18].AGI.replace('50000+.',50000,inplace=True)"
   ]
  },
  {
   "cell_type": "code",
   "execution_count": 36,
   "metadata": {
    "collapsed": false
   },
   "outputs": [
    {
     "name": "stdout",
     "output_type": "stream",
     "text": [
      " - 50000.    128667\n",
      " 50000+.      12379\n",
      "Name: AGI, dtype: int64\n",
      "90659\n",
      " Never married                      86485\n",
      " Married-civilian spouse present    84222\n",
      " Divorced                           12710\n",
      " Widowed                            10462\n",
      " Separated                           3460\n",
      " Married-spouse absent               1518\n",
      " Married-A F spouse present           665\n",
      "Name: AMARITL, dtype: int64\n"
     ]
    }
   ],
   "source": [
    "print df_census[df_census.AAGE > 18].AGI.value_counts()\n",
    "print len(df_census[(df_census.AAGE > 18) & (df_census.AAGE < 50)])\n",
    "print df_census.AMARITL.value_counts() "
   ]
  },
  {
   "cell_type": "code",
   "execution_count": null,
   "metadata": {
    "collapsed": true
   },
   "outputs": [],
   "source": []
  }
 ],
 "metadata": {
  "kernelspec": {
   "display_name": "Python 2",
   "language": "python",
   "name": "python2"
  },
  "language_info": {
   "codemirror_mode": {
    "name": "ipython",
    "version": 2
   },
   "file_extension": ".py",
   "mimetype": "text/x-python",
   "name": "python",
   "nbconvert_exporter": "python",
   "pygments_lexer": "ipython2",
   "version": "2.7.11"
  }
 },
 "nbformat": 4,
 "nbformat_minor": 0
}
